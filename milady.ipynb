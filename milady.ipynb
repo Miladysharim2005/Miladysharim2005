{
 "cells": [
  {
   "cell_type": "code",
   "execution_count": 22,
   "metadata": {},
   "outputs": [
    {
     "name": "stdout",
     "output_type": "stream",
     "text": [
      "bienvenidos al curso de matematica del ciclo 1\n"
     ]
    }
   ],
   "source": [
    "curso=\"matematica\"\n",
    "ciclo=1\n",
    "print(\"bienvenidos al curso de\", curso, \"del ciclo\", ciclo)\n",
    "\n"
   ]
  },
  {
   "cell_type": "code",
   "execution_count": 1,
   "metadata": {},
   "outputs": [
    {
     "name": "stdout",
     "output_type": "stream",
     "text": [
      "la suma es 58253\n"
     ]
    }
   ],
   "source": [
    "num1 = input(\"ingrese un numero\")\n",
    "num2 = input(\"ingrese un numero\")\n",
    "total = int(num1) + int(num2) \n",
    "print(\"la suma es:\", total)\n"
   ]
  },
  {
   "cell_type": "code",
   "execution_count": 3,
   "metadata": {},
   "outputs": [
    {
     "name": "stdout",
     "output_type": "stream",
     "text": [
      "Hola-weeee-certus\n",
      "dnsaidab\n"
     ]
    }
   ],
   "source": [
    "print(\"Hola\",\"weeee\",\"certus\",sep='-', end='\\n')\n",
    "print(\"dnsaidab\")\n"
   ]
  },
  {
   "cell_type": "code",
   "execution_count": 29,
   "metadata": {},
   "outputs": [
    {
     "data": {
      "text/plain": [
       "[]"
      ]
     },
     "execution_count": 29,
     "metadata": {},
     "output_type": "execute_result"
    }
   ],
   "source": [
    "lista =[\"a\", 1, 2, 3]\n",
    "lista.append(0)\n",
    "lista.pop(2)\n",
    "lista.clear()\n",
    "lista"
   ]
  },
  {
   "cell_type": "code",
   "execution_count": 33,
   "metadata": {},
   "outputs": [
    {
     "data": {
      "text/plain": [
       "['azucar']"
      ]
     },
     "execution_count": 33,
     "metadata": {},
     "output_type": "execute_result"
    }
   ],
   "source": [
    "productos = []\n",
    "producto = input(\"ingrese el producto\")\n",
    "productos.append(producto)\n",
    "productos\n"
   ]
  },
  {
   "cell_type": "code",
   "execution_count": 37,
   "metadata": {},
   "outputs": [
    {
     "name": "stdout",
     "output_type": "stream",
     "text": [
      "2\n",
      "1\n"
     ]
    },
    {
     "data": {
      "text/plain": [
       "(1, 2, 2, 3, 3, 4)"
      ]
     },
     "execution_count": 37,
     "metadata": {},
     "output_type": "execute_result"
    }
   ],
   "source": [
    "tupla = (1,2,2,3,3,4)\n",
    "#count\n",
    "print(tupla.count(3))\n",
    "#index\n",
    "print(tupla.index(2))\n",
    "tupla"
   ]
  },
  {
   "cell_type": "code",
   "execution_count": 44,
   "metadata": {},
   "outputs": [
    {
     "data": {
      "text/plain": [
       "{'perro': 'dog'}"
      ]
     },
     "execution_count": 44,
     "metadata": {},
     "output_type": "execute_result"
    }
   ],
   "source": [
    "diccionario = {\"gato\":\"cat\",\n",
    "              \"perro\":\"dog\"}\n",
    "\n",
    "#get es para obtener el valor de una clave\n",
    "diccionario.get(\"gato\")\n",
    "#keys\n",
    "diccionario.keys()\n",
    "#values\n",
    "diccionario.values()\n",
    "#items\n",
    "diccionario.items()\n",
    "#pop elimina un elemento del diccionario\n",
    "diccionario.pop(\"gato\")\n",
    "diccionario"
   ]
  },
  {
   "cell_type": "code",
   "execution_count": 49,
   "metadata": {},
   "outputs": [
    {
     "data": {
      "text/plain": [
       "{'codigo': ['1', '2', '3'], 'nombre': ['juanito', 'rosita', 'rigoberto']}"
      ]
     },
     "execution_count": 49,
     "metadata": {},
     "output_type": "execute_result"
    }
   ],
   "source": [
    "clientes = {\n",
    "    \"codigo\": [\"1\", \"2\"],\n",
    "    \"nombre\": [\"juanito\", \"rosita\"]\n",
    "}\n",
    "clientes[\"codigo\"].append(\"3\")\n",
    "clientes[\"nombre\"].append(\"rigoberto\")\n",
    "clientes"
   ]
  },
  {
   "cell_type": "code",
   "execution_count": 51,
   "metadata": {},
   "outputs": [
    {
     "name": "stdout",
     "output_type": "stream",
     "text": [
      "menor de edad\n"
     ]
    }
   ],
   "source": [
    "edad=10\n",
    "if edad>=18:\n",
    "    print(\"mayor de edad\")\n",
    "elif edad<18:\n",
    "    print(\"menor de edad\")\n",
    "else:\n",
    "    print(\"tu edad no puede ser 0\") "
   ]
  },
  {
   "cell_type": "code",
   "execution_count": null,
   "metadata": {},
   "outputs": [],
   "source": []
  },
  {
   "cell_type": "code",
   "execution_count": 53,
   "metadata": {},
   "outputs": [
    {
     "name": "stdout",
     "output_type": "stream",
     "text": [
      "0\n",
      "2\n",
      "4\n",
      "6\n",
      "8\n"
     ]
    }
   ],
   "source": [
    "for i in range(10):\n",
    "    if i%2==0:\n",
    "        print(i)"
   ]
  },
  {
   "cell_type": "markdown",
   "metadata": {},
   "source": [
    "# MMM\n",
    "## KKKK"
   ]
  },
  {
   "cell_type": "markdown",
   "metadata": {},
   "source": [
    "- L1\n",
    "    - JKJKJ\n",
    "    - JKJ\n",
    "        - KLKL"
   ]
  },
  {
   "cell_type": "markdown",
   "metadata": {},
   "source": [
    "**MILADY**\n",
    "\n",
    "    -KKK\n",
    "        -MMM\n",
    "        SJS\n",
    "        "
   ]
  },
  {
   "cell_type": "markdown",
   "metadata": {},
   "source": [
    "*MILADY* \n",
    "\n",
    "[WWW](https://www.mark)"
   ]
  },
  {
   "cell_type": "markdown",
   "metadata": {},
   "source": [
    "![lll](https://th.bing.com/th/id/OIP.Z_hIGhZGby8q36PRdIUtMwHaD4?pid=ImgDet&rs=1)"
   ]
  },
  {
   "cell_type": "markdown",
   "metadata": {},
   "source": [
    "![mmmm](https://th.bing.com/th/id/OIP.KAcnH-3cA9tCYAdN90TtiAHaEK?pid=ImgDet&rs=1)"
   ]
  }
 ],
 "metadata": {
  "kernelspec": {
   "display_name": "Python 3.9.12 ('base')",
   "language": "python",
   "name": "python3"
  },
  "language_info": {
   "codemirror_mode": {
    "name": "ipython",
    "version": 3
   },
   "file_extension": ".py",
   "mimetype": "text/x-python",
   "name": "python",
   "nbconvert_exporter": "python",
   "pygments_lexer": "ipython3",
   "version": "3.9.12"
  },
  "orig_nbformat": 4,
  "vscode": {
   "interpreter": {
    "hash": "ad2bdc8ecc057115af97d19610ffacc2b4e99fae6737bb82f5d7fb13d2f2c186"
   }
  }
 },
 "nbformat": 4,
 "nbformat_minor": 2
}
